{
 "cells": [
  {
   "cell_type": "markdown",
   "id": "3c13b17b-5f70-4eaf-af37-1f52c4b05ef8",
   "metadata": {},
   "source": [
    "# **Prepare the input for VID**\n",
    "#### **Two options for VID input:**\n",
    "##### A. h5ad file (.h5ad)\n",
    "##### B. gene expression table (.csv) + metadata table (.csv)"
   ]
  },
  {
   "cell_type": "markdown",
   "id": "c82cb345-63ca-4ca3-b9c4-c7d13ad710bb",
   "metadata": {},
   "source": [
    "#### **Install packages: Seurat, SeuratDisk**"
   ]
  },
  {
   "cell_type": "code",
   "execution_count": null,
   "id": "db4b1327-0e63-402c-8b55-8cc76c6b8c6e",
   "metadata": {},
   "outputs": [],
   "source": [
    "# if (!requireNamespace(\"remotes\", quietly = TRUE)) {\n",
    "#   install.packages(\"remotes\")\n",
    "# }\n",
    "# remotes::install_github(\"satijalab/seurat\", ref = \"v4.4.0\")\n",
    "# remotes::install_github(\"mojaveazure/seurat-disk\")"
   ]
  },
  {
   "cell_type": "code",
   "execution_count": 23,
   "id": "a463ca31-1d7a-4033-acee-0bab845c7547",
   "metadata": {},
   "outputs": [],
   "source": [
    "library(Seurat)\n",
    "library(SeuratDisk)"
   ]
  },
  {
   "cell_type": "markdown",
   "id": "2fe510d3-21f2-4aee-872f-b768cddeb66f",
   "metadata": {},
   "source": [
    "### **Load seurat object**"
   ]
  },
  {
   "cell_type": "code",
   "execution_count": 2,
   "id": "30419a70-90db-469a-9aa6-463cb78bb98d",
   "metadata": {},
   "outputs": [],
   "source": [
    "seurat_obj_dir <- '' # seurat object directory"
   ]
  },
  {
   "cell_type": "code",
   "execution_count": 3,
   "id": "1a0afe79-eaed-470a-b35e-3bf8eb70b145",
   "metadata": {},
   "outputs": [],
   "source": [
    "seurat_obj <- readRDS(seurat_obj_dir) # load seurat object "
   ]
  },
  {
   "cell_type": "markdown",
   "id": "6222078d-a9e9-4f53-9220-2a2c3868839b",
   "metadata": {},
   "source": [
    "### **A. If your Seurat object version is not higher than V5, convert to h5ad file with the code below**\n",
    "\n",
    "#### *seurat object (.rds) -> h5seurat (.h5seurat) -> h5ad (.h5ad)* "
   ]
  },
  {
   "cell_type": "code",
   "execution_count": 14,
   "id": "9c46404f-9994-49d4-89f6-75aa9cb19d20",
   "metadata": {},
   "outputs": [],
   "source": [
    "h5seurat_dir <- '' # h5seurat file directory\n",
    "h5ad_dir <- '' # h5ad file directory (VID input)"
   ]
  },
  {
   "cell_type": "code",
   "execution_count": 13,
   "id": "2bab0f7c-3483-4656-b2e8-5e6352701255",
   "metadata": {
    "scrolled": true
   },
   "outputs": [
    {
     "name": "stderr",
     "output_type": "stream",
     "text": [
      "Creating h5Seurat file for version 3.1.5.9900\n",
      "\n",
      "Adding counts for RNA\n",
      "\n",
      "Adding data for RNA\n",
      "\n",
      "Adding scale.data for RNA\n",
      "\n",
      "Adding variable features for RNA\n",
      "\n",
      "Adding feature-level metadata for RNA\n",
      "\n",
      "Adding cell embeddings for pca\n",
      "\n",
      "Adding loadings for pca\n",
      "\n",
      "No projected loadings for pca\n",
      "\n",
      "Adding standard deviations for pca\n",
      "\n",
      "No JackStraw data for pca\n",
      "\n",
      "Adding cell embeddings for umap\n",
      "\n",
      "No loadings for umap\n",
      "\n",
      "No projected loadings for umap\n",
      "\n",
      "No standard deviations for umap\n",
      "\n",
      "No JackStraw data for umap\n",
      "\n",
      "Adding cell embeddings for harmony\n",
      "\n",
      "Adding loadings for harmony\n",
      "\n",
      "Adding projected loadings for harmony\n",
      "\n",
      "Adding standard deviations for harmony\n",
      "\n",
      "No JackStraw data for harmony\n",
      "\n",
      "Adding cell embeddings for tsne\n",
      "\n",
      "No loadings for tsne\n",
      "\n",
      "No projected loadings for tsne\n",
      "\n",
      "No standard deviations for tsne\n",
      "\n",
      "No JackStraw data for tsne\n",
      "\n",
      "Validating h5Seurat file\n",
      "\n",
      "Adding scale.data from RNA as X\n",
      "\n",
      "Transfering meta.features to var\n",
      "\n",
      "Adding data from RNA as raw\n",
      "\n",
      "Transfering meta.features to raw/var\n",
      "\n",
      "Transfering meta.data to obs\n",
      "\n",
      "Adding dimensional reduction information for harmony\n",
      "\n",
      "Adding feature loadings for harmony\n",
      "\n",
      "Adding dimensional reduction information for pca\n",
      "\n",
      "Adding feature loadings for pca\n",
      "\n",
      "Adding dimensional reduction information for tsne\n",
      "\n",
      "Adding dimensional reduction information for umap\n",
      "\n"
     ]
    }
   ],
   "source": [
    "SaveH5Seurat(seurat_obj, filename = h5seurat_dir) # convert and save seurat object to h5seurat file\n",
    "Convert(h5ad_dir, dest = \"h5ad\") # convert h5seurat file to h5ad file"
   ]
  },
  {
   "cell_type": "markdown",
   "id": "3c394326-c3da-4f9f-b175-9280c653cd7a",
   "metadata": {},
   "source": [
    "### **B. Extract the gene expression and meta data as two csv tables from seurat object(V5)**\n",
    "#### *seurat object (.rds) -> gene expression matrix (.csv) +  metadata(.csv)*"
   ]
  },
  {
   "cell_type": "markdown",
   "id": "4b6da79d-fb04-4f58-b1cb-40847d3bc21e",
   "metadata": {},
   "source": [
    "###### Extract the metadata"
   ]
  },
  {
   "cell_type": "code",
   "execution_count": 4,
   "id": "7581abc7-1d56-4bc2-ab00-08fdceb672d8",
   "metadata": {},
   "outputs": [],
   "source": [
    "meta_data <- seurat_obj@meta.data # extract meta-data from seurat object\n",
    "meta_path <- '' # metadata table directory\n",
    "write.csv(meta_data, file = meta_path, row.names = TRUE) # save"
   ]
  },
  {
   "cell_type": "markdown",
   "id": "c488c3e2-fd08-4660-bd38-3e1963328987",
   "metadata": {},
   "source": [
    "#### Extract the log normalized gene expression matrix "
   ]
  },
  {
   "cell_type": "code",
   "execution_count": 15,
   "id": "d19f153f-c0a3-4fde-b536-8748fee42769",
   "metadata": {},
   "outputs": [],
   "source": [
    "output_file <- '' # gene expression table output directory"
   ]
  },
  {
   "cell_type": "code",
   "execution_count": 22,
   "id": "821fe427-6088-498f-8aa5-2f1204b5c859",
   "metadata": {},
   "outputs": [],
   "source": [
    "log_normalized_data <- GetAssayData(seurat_obj, assay = \"RNA\", layer = \"data\") # Access the log-normalized data"
   ]
  },
  {
   "cell_type": "code",
   "execution_count": 20,
   "id": "a6fc8f7e-2e62-4b32-991d-f6ada48fe9e6",
   "metadata": {},
   "outputs": [
    {
     "name": "stdout",
     "output_type": "stream",
     "text": [
      "A warning occurred:  sparse->dense coercion: allocating vector of size 15.9 GiB \n",
      "Execution completed\n"
     ]
    }
   ],
   "source": [
    "# save the gene expression table directly if sample size is not too big, otherwise, the table will be saved with chunk\n",
    "result <- tryCatch({\n",
    "  # Code that might throw an error\n",
    "    write.csv(log_normalized_data, file = output_file, row.names = TRUE)\n",
    "}, warning = function(w) {\n",
    "    # Handle warnings\n",
    "    cat(\"A warning occurred: \", w$message, \"\\n\")\n",
    "    list(success = FALSE, data = NULL)\n",
    "}, error = function(e) {\n",
    "  # Handle errors\n",
    "    cat(\"An error occurred: \", e$message, \"\\n\")\n",
    "    list(success = FALSE, data = NULL)\n",
    "}, finally = {\n",
    "    # Code to execute regardless of error\n",
    "    # Define the chunk size\n",
    "    chunk_size <- 1000\n",
    "    \n",
    "    # First chunk: write with header\n",
    "    chunk <- log_normalized_data[, 1:chunk_size]\n",
    "    chunk_df <- as.data.frame(as.matrix(chunk))\n",
    "    fwrite(chunk_df, file = output_file, row.names = TRUE)\n",
    "    \n",
    "    # Subsequent chunks: append without header\n",
    "    for (i in seq(chunk_size + 1, ncol(log_normalized_data), by = chunk_size)) {\n",
    "      chunk <- log_normalized_data[, i:min(i + chunk_size - 1, ncol(log_normalized_data))]\n",
    "      chunk_df <- as.data.frame(as.matrix(chunk))\n",
    "      fwrite(chunk_df, file = output_file, row.names = TRUE, append = TRUE, col.names = FALSE)\n",
    "    }\n",
    "    cat(\"Execution completed\\n\")\n",
    "})"
   ]
  },
  {
   "cell_type": "code",
   "execution_count": 21,
   "id": "54755ff3-96e5-43fc-bab8-9cc2d06a8af7",
   "metadata": {},
   "outputs": [
    {
     "name": "stdout",
     "output_type": "stream",
     "text": [
      "[1] \"Sample size is too big to save directly, gene expression table has been saved with chunks.\"\n"
     ]
    }
   ],
   "source": [
    "# Check if the operation was successful\n",
    "if (result$success) {\n",
    "  print(\"Gene expression table saved.\")\n",
    "} else {\n",
    "  print(\"Sample size is too big to save directly, gene expression table has been saved with chunks.\")\n",
    "}"
   ]
  },
  {
   "cell_type": "markdown",
   "id": "9a8ae364-81fe-4fd2-b623-02d963674009",
   "metadata": {},
   "source": [
    "###### ***If both methods failed, please consider downgrade the seurat to V4.***"
   ]
  },
  {
   "cell_type": "code",
   "execution_count": null,
   "id": "496849c4-61bb-4945-aac3-c6d4e859f612",
   "metadata": {},
   "outputs": [],
   "source": []
  }
 ],
 "metadata": {
  "kernelspec": {
   "display_name": "R",
   "language": "R",
   "name": "ir"
  },
  "language_info": {
   "codemirror_mode": "r",
   "file_extension": ".r",
   "mimetype": "text/x-r-source",
   "name": "R",
   "pygments_lexer": "r",
   "version": "4.4.1"
  }
 },
 "nbformat": 4,
 "nbformat_minor": 5
}
